{
  "nbformat": 4,
  "nbformat_minor": 0,
  "metadata": {
    "colab": {
      "name": "集成算法.ipynb",
      "version": "0.3.2",
      "provenance": [],
      "collapsed_sections": [],
      "include_colab_link": true
    },
    "kernelspec": {
      "name": "python3",
      "display_name": "Python 3"
    }
  },
  "cells": [
    {
      "cell_type": "markdown",
      "metadata": {
        "id": "view-in-github",
        "colab_type": "text"
      },
      "source": [
        "<a href=\"https://colab.research.google.com/github/Bingyy/MachineLearning/blob/master/%E9%9B%86%E6%88%90%E7%AE%97%E6%B3%95.ipynb\" target=\"_parent\"><img src=\"https://colab.research.google.com/assets/colab-badge.svg\" alt=\"Open In Colab\"/></a>"
      ]
    },
    {
      "metadata": {
        "id": "SiFcWC9QDiYC",
        "colab_type": "text"
      },
      "cell_type": "markdown",
      "source": [
        "**Bagged Decision Tree**\n",
        "\n",
        "Bagging算法在数据有很大的方差时很有效，最常见的是决策树的Bagging算法。"
      ]
    },
    {
      "metadata": {
        "id": "qF7WfEfeDfnH",
        "colab_type": "code",
        "colab": {}
      },
      "cell_type": "code",
      "source": [
        "from pandas import read_csv\n",
        "from sklearn.model_selection import KFold\n",
        "from sklearn.model_selection import cross_val_score\n",
        "from sklearn.ensemble import BaggingClassifier\n",
        "from sklearn.tree import DecisionTreeClassifier"
      ],
      "execution_count": 0,
      "outputs": []
    },
    {
      "metadata": {
        "id": "1qRcHeWSEE-e",
        "colab_type": "code",
        "colab": {}
      },
      "cell_type": "code",
      "source": [
        "# 导入数据\n",
        "filename = 'http://ftp.ics.uci.edu/pub/machine-learning-databases/pima-indians-diabetes/pima-indians-diabetes.data'\n",
        "names = ['preg','plas','pres','skin','test','mass','pedi','age','class']\n",
        "data = read_csv(filename, names=names)"
      ],
      "execution_count": 0,
      "outputs": []
    },
    {
      "metadata": {
        "id": "Eb5t1fFOEEyA",
        "colab_type": "code",
        "colab": {
          "base_uri": "https://localhost:8080/",
          "height": 34
        },
        "outputId": "87884a49-884f-4021-ec3e-2af400768a25"
      },
      "cell_type": "code",
      "source": [
        "data.shape"
      ],
      "execution_count": 3,
      "outputs": [
        {
          "output_type": "execute_result",
          "data": {
            "text/plain": [
              "(768, 9)"
            ]
          },
          "metadata": {
            "tags": []
          },
          "execution_count": 3
        }
      ]
    },
    {
      "metadata": {
        "id": "kHYwuV0pEGCi",
        "colab_type": "code",
        "colab": {}
      },
      "cell_type": "code",
      "source": [
        "# 数据划分\n",
        "array = data.values\n",
        "X = array[:, 0:8]\n",
        "y = array[:, 8]\n",
        "\n",
        "# 构建模型\n",
        "num_folds = 10\n",
        "seed = 7\n",
        "kfold = KFold(n_splits=num_folds, random_state=seed)\n",
        "cart = DecisionTreeClassifier()\n",
        "num_tree = 100\n",
        "model = BaggingClassifier(base_estimator=cart, n_estimators=num_tree, random_state=seed)\n",
        "\n",
        "result = cross_val_score(model, X, y, cv=kfold)"
      ],
      "execution_count": 0,
      "outputs": []
    },
    {
      "metadata": {
        "id": "IdKtDoSSGU1r",
        "colab_type": "code",
        "colab": {
          "base_uri": "https://localhost:8080/",
          "height": 34
        },
        "outputId": "a2658ff6-3244-45fc-dcad-b9cc53fbf863"
      },
      "cell_type": "code",
      "source": [
        "print(result.mean())"
      ],
      "execution_count": 5,
      "outputs": [
        {
          "output_type": "stream",
          "text": [
            "0.770745044429255\n"
          ],
          "name": "stdout"
        }
      ]
    },
    {
      "metadata": {
        "id": "PyXrP1QNGri6",
        "colab_type": "text"
      },
      "cell_type": "markdown",
      "source": [
        "### 随机森林\n",
        "\n",
        "用随机的方式建立一个森林，森林由多棵决策树组成，每个决策树之间没有关联。新的输入进入到随机森林，会让每个决策树分别判断，看样本属于哪一类，最后看哪类被选择的最多，就预测这个样本为那个类。"
      ]
    },
    {
      "metadata": {
        "id": "uEV5_pqKGWxe",
        "colab_type": "code",
        "colab": {}
      },
      "cell_type": "code",
      "source": [
        "from pandas import read_csv\n",
        "from sklearn.model_selection import KFold\n",
        "from sklearn.model_selection import cross_val_score\n",
        "from sklearn.ensemble import RandomForestClassifier"
      ],
      "execution_count": 0,
      "outputs": []
    },
    {
      "metadata": {
        "id": "P_eILpJmHj76",
        "colab_type": "code",
        "colab": {}
      },
      "cell_type": "code",
      "source": [
        "# 导入数据\n",
        "filename = 'http://ftp.ics.uci.edu/pub/machine-learning-databases/pima-indians-diabetes/pima-indians-diabetes.data'\n",
        "names = ['preg','plas','pres','skin','test','mass','pedi','age','class']\n",
        "data = read_csv(filename, names=names)"
      ],
      "execution_count": 0,
      "outputs": []
    },
    {
      "metadata": {
        "id": "TjuxkbAVHsTy",
        "colab_type": "code",
        "colab": {}
      },
      "cell_type": "code",
      "source": [
        "# 数据划分\n",
        "array = data.values\n",
        "X = array[:, 0:8]\n",
        "y = array[:, 8]\n",
        "\n",
        "# 构建模型\n",
        "num_folds = 10\n",
        "seed = 7\n",
        "kfold = KFold(n_splits=num_folds, random_state=seed)\n",
        "num_tree = 100\n",
        "max_features = 3\n",
        "model = RandomForestClassifier(n_estimators=num_tree, random_state=seed, max_features=max_features)\n",
        "\n",
        "result = cross_val_score(model, X, y, cv=kfold)"
      ],
      "execution_count": 0,
      "outputs": []
    },
    {
      "metadata": {
        "id": "9x8dnd0GIDt9",
        "colab_type": "code",
        "colab": {
          "base_uri": "https://localhost:8080/",
          "height": 34
        },
        "outputId": "55bd1371-1871-4785-f662-fdd57aa07668"
      },
      "cell_type": "code",
      "source": [
        "print(result.mean())"
      ],
      "execution_count": 10,
      "outputs": [
        {
          "output_type": "stream",
          "text": [
            "0.7733766233766234\n"
          ],
          "name": "stdout"
        }
      ]
    },
    {
      "metadata": {
        "id": "qDzT8buWILqv",
        "colab_type": "text"
      },
      "cell_type": "markdown",
      "source": [
        "### 极端随机树\n",
        "与随机森林类似，都是由很多决策树组成，但是有两个重要区别：\n",
        "\n",
        "- 随机森林是Bagging模型，ExtraTreesClassifier择时使用所有的训练样本得到每个决策树\n",
        "- 随机森林是在一个随机子集内得到最优的分叉特征属性，ExtraTreesClassifier则是完全随机选择分叉特征属性"
      ]
    },
    {
      "metadata": {
        "id": "kH-9BuJwIGDs",
        "colab_type": "code",
        "colab": {}
      },
      "cell_type": "code",
      "source": [
        "from pandas import read_csv\n",
        "from sklearn.model_selection import KFold\n",
        "from sklearn.model_selection import cross_val_score\n",
        "from sklearn.ensemble import ExtraTreesClassifier"
      ],
      "execution_count": 0,
      "outputs": []
    },
    {
      "metadata": {
        "id": "3tFjH46YI791",
        "colab_type": "code",
        "colab": {}
      },
      "cell_type": "code",
      "source": [
        "# 导入数据\n",
        "filename = 'http://ftp.ics.uci.edu/pub/machine-learning-databases/pima-indians-diabetes/pima-indians-diabetes.data'\n",
        "names = ['preg','plas','pres','skin','test','mass','pedi','age','class']\n",
        "data = read_csv(filename, names=names)"
      ],
      "execution_count": 0,
      "outputs": []
    },
    {
      "metadata": {
        "id": "VlfTWfdBI9lt",
        "colab_type": "code",
        "colab": {}
      },
      "cell_type": "code",
      "source": [
        "# 数据划分\n",
        "array = data.values\n",
        "X = array[:, 0:8]\n",
        "y = array[:, 8]\n",
        "\n",
        "# 构建模型\n",
        "num_folds = 10\n",
        "seed = 7\n",
        "kfold = KFold(n_splits=num_folds, random_state=seed)\n",
        "num_tree = 100\n",
        "max_features = 7\n",
        "\n",
        "model = ExtraTreesClassifier(n_estimators=num_tree, random_state=seed, max_features=max_features)\n",
        "\n",
        "result = cross_val_score(model, X, y, cv=kfold)"
      ],
      "execution_count": 0,
      "outputs": []
    },
    {
      "metadata": {
        "id": "qCKw1gd5JGgc",
        "colab_type": "code",
        "colab": {
          "base_uri": "https://localhost:8080/",
          "height": 34
        },
        "outputId": "ff657291-8cc0-4664-a939-3f379f525c7e"
      },
      "cell_type": "code",
      "source": [
        "print(result.mean())"
      ],
      "execution_count": 14,
      "outputs": [
        {
          "output_type": "stream",
          "text": [
            "0.762987012987013\n"
          ],
          "name": "stdout"
        }
      ]
    },
    {
      "metadata": {
        "id": "kYalHmE9JPjB",
        "colab_type": "text"
      },
      "cell_type": "markdown",
      "source": [
        "### 提升算法\n",
        "\n",
        "Boosting算法是用来提高弱分类算法准确度的方法。先构造一个预测函数序列，然后将他们组合成为一个预测函数。"
      ]
    },
    {
      "metadata": {
        "id": "QDnDRkuOJIOo",
        "colab_type": "code",
        "colab": {}
      },
      "cell_type": "code",
      "source": [
        "### AdaBoost\n",
        "from pandas import read_csv\n",
        "from sklearn.model_selection import KFold\n",
        "from sklearn.model_selection import cross_val_score\n",
        "from sklearn.ensemble import AdaBoostClassifier"
      ],
      "execution_count": 0,
      "outputs": []
    },
    {
      "metadata": {
        "id": "SVVy1Kz3JvQA",
        "colab_type": "code",
        "colab": {}
      },
      "cell_type": "code",
      "source": [
        "# 导入数据\n",
        "filename = 'http://ftp.ics.uci.edu/pub/machine-learning-databases/pima-indians-diabetes/pima-indians-diabetes.data'\n",
        "names = ['preg','plas','pres','skin','test','mass','pedi','age','class']\n",
        "data = read_csv(filename, names=names)\n",
        "\n"
      ],
      "execution_count": 0,
      "outputs": []
    },
    {
      "metadata": {
        "id": "X7AU3WHgJ-Xa",
        "colab_type": "code",
        "colab": {}
      },
      "cell_type": "code",
      "source": [
        "# 数据划分\n",
        "array = data.values\n",
        "X = array[:, 0:8]\n",
        "y = array[:, 8]\n",
        "\n",
        "# 构建模型\n",
        "num_folds = 10\n",
        "seed = 7\n",
        "kfold = KFold(n_splits=num_folds, random_state=seed)\n",
        "num_tree = 100\n",
        "\n",
        "model = AdaBoostClassifier(n_estimators=num_tree, random_state=seed)\n",
        "\n",
        "result = cross_val_score(model, X, y, cv=kfold)"
      ],
      "execution_count": 0,
      "outputs": []
    },
    {
      "metadata": {
        "id": "6DCbxIROKMfI",
        "colab_type": "code",
        "colab": {
          "base_uri": "https://localhost:8080/",
          "height": 34
        },
        "outputId": "97977d05-0441-4b8c-a88f-e213431ca16b"
      },
      "cell_type": "code",
      "source": [
        "print(result.mean())"
      ],
      "execution_count": 20,
      "outputs": [
        {
          "output_type": "stream",
          "text": [
            "0.7421565276828435\n"
          ],
          "name": "stdout"
        }
      ]
    },
    {
      "metadata": {
        "id": "lioPF_dUKQwo",
        "colab_type": "code",
        "colab": {}
      },
      "cell_type": "code",
      "source": [
        "### 随机梯度提升算法\n",
        "\n",
        "from pandas import read_csv\n",
        "from sklearn.model_selection import KFold\n",
        "from sklearn.model_selection import cross_val_score\n",
        "from sklearn.ensemble import GradientBoostingClassifier\n"
      ],
      "execution_count": 0,
      "outputs": []
    },
    {
      "metadata": {
        "id": "TyKh2DqhKZqh",
        "colab_type": "code",
        "colab": {}
      },
      "cell_type": "code",
      "source": [
        "# 导入数据\n",
        "filename = 'http://ftp.ics.uci.edu/pub/machine-learning-databases/pima-indians-diabetes/pima-indians-diabetes.data'\n",
        "names = ['preg','plas','pres','skin','test','mass','pedi','age','class']\n",
        "data = read_csv(filename, names=names)\n",
        "\n",
        "# 数据划分\n",
        "array = data.values\n",
        "X = array[:, 0:8]\n",
        "y = array[:, 8]\n",
        "\n",
        "# 构建模型\n",
        "num_folds = 10\n",
        "seed = 7\n",
        "kfold = KFold(n_splits=num_folds, random_state=seed)\n",
        "num_tree = 100\n",
        "\n",
        "model = AdaBoostClassifier(n_estimators=num_tree, random_state=seed)\n",
        "\n",
        "result = cross_val_score(model, X, y, cv=kfold)"
      ],
      "execution_count": 0,
      "outputs": []
    },
    {
      "metadata": {
        "id": "wbUu92gIKhHn",
        "colab_type": "code",
        "colab": {
          "base_uri": "https://localhost:8080/",
          "height": 34
        },
        "outputId": "4a4de02f-f4b8-43eb-9e2e-fd13f4305750"
      },
      "cell_type": "code",
      "source": [
        "print(result.mean())"
      ],
      "execution_count": 24,
      "outputs": [
        {
          "output_type": "stream",
          "text": [
            "0.7421565276828435\n"
          ],
          "name": "stdout"
        }
      ]
    },
    {
      "metadata": {
        "id": "w5MxVJQxKovA",
        "colab_type": "text"
      },
      "cell_type": "markdown",
      "source": [
        "### 投票算法\n",
        "\n",
        "将多个机器学习模型集成集成起来的算法。通过创建两个或两个以上的算法模型，用投票算法将这些算法包裹起来。"
      ]
    },
    {
      "metadata": {
        "id": "k0-0L2J-KjRi",
        "colab_type": "code",
        "colab": {}
      },
      "cell_type": "code",
      "source": [
        "from pandas import read_csv\n",
        "from sklearn.model_selection import KFold\n",
        "from sklearn.model_selection import cross_val_score\n",
        "from sklearn.ensemble import VotingClassifier\n",
        "from sklearn.tree import DecisionTreeClassifier\n",
        "from sklearn.svm import SVC\n",
        "from sklearn.linear_model import LogisticRegression"
      ],
      "execution_count": 0,
      "outputs": []
    },
    {
      "metadata": {
        "id": "OO-BKom_MrfR",
        "colab_type": "code",
        "colab": {}
      },
      "cell_type": "code",
      "source": [
        "# 导入数据\n",
        "filename = 'http://ftp.ics.uci.edu/pub/machine-learning-databases/pima-indians-diabetes/pima-indians-diabetes.data'\n",
        "names = ['preg','plas','pres','skin','test','mass','pedi','age','class']\n",
        "data = read_csv(filename, names=names)\n",
        "\n",
        "# 数据划分\n",
        "array = data.values\n",
        "X = array[:, 0:8]\n",
        "y = array[:, 8]\n",
        "\n",
        "# 构建模型\n",
        "num_folds = 10\n",
        "seed = 7\n",
        "kfold = KFold(n_splits=num_folds, random_state=seed)\n",
        "cart = DecisionTreeClassifier()\n",
        "\n",
        "models = {}\n",
        "models['logistic'] = LogisticRegression()\n",
        "models['cart'] = DecisionTreeClassifier()\n",
        "models['svm'] = SVC()\n",
        "\n",
        "ensemble_model = VotingClassifier(estimators=models)\n",
        "\n",
        "result = cross_val_score(model, X, y, cv=kfold)"
      ],
      "execution_count": 0,
      "outputs": []
    },
    {
      "metadata": {
        "id": "wiC5m6g_NJ8S",
        "colab_type": "code",
        "colab": {
          "base_uri": "https://localhost:8080/",
          "height": 34
        },
        "outputId": "d6d2fc84-83b7-473b-956e-6cd166183de7"
      },
      "cell_type": "code",
      "source": [
        "print(result.mean())"
      ],
      "execution_count": 28,
      "outputs": [
        {
          "output_type": "stream",
          "text": [
            "0.7421565276828435\n"
          ],
          "name": "stdout"
        }
      ]
    },
    {
      "metadata": {
        "id": "CBLinysGNLyZ",
        "colab_type": "code",
        "colab": {}
      },
      "cell_type": "code",
      "source": [
        ""
      ],
      "execution_count": 0,
      "outputs": []
    }
  ]
}